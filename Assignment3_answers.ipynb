{
  "nbformat": 4,
  "nbformat_minor": 0,
  "metadata": {
    "colab": {
      "provenance": []
    },
    "kernelspec": {
      "name": "python3",
      "display_name": "Python 3"
    },
    "language_info": {
      "name": "python"
    }
  },
  "cells": [
    {
      "cell_type": "code",
      "execution_count": null,
      "metadata": {
        "colab": {
          "base_uri": "https://localhost:8080/"
        },
        "id": "Kg62k-4NqigG",
        "outputId": "3ac1ea7e-ad31-4a9c-b984-1b422e825125"
      },
      "outputs": [
        {
          "output_type": "stream",
          "name": "stdout",
          "text": [
            "2\n"
          ]
        }
      ],
      "source": [
        "#question 1\n",
        "def threeSumClosest(nums, target):\n",
        "    nums.sort()  # Sort the array in ascending order\n",
        "    n = len(nums)\n",
        "    closest_sum = float('inf')\n",
        "\n",
        "    for i in range(n-2):\n",
        "        left = i + 1\n",
        "        right = n - 1\n",
        "\n",
        "        while left < right:                       #n-2\n",
        "            current_sum = nums[i] + nums[left] + nums[right]\n",
        "            \n",
        "            if current_sum == target:\n",
        "                return current_sum  # Found an exact match, return the sum\n",
        "            elif abs(current_sum - target) < abs(closest_sum - target):\n",
        "                closest_sum = current_sum\n",
        "\n",
        "            if current_sum < target:\n",
        "                left += 1\n",
        "            else:\n",
        "                right -= 1\n",
        "\n",
        "    return closest_sum\n",
        "\n",
        "# Example usage:\n",
        "nums = [-1, 2, 1, -4]\n",
        "target = 1\n",
        "result = threeSumClosest(nums, target)\n",
        "print(result)\n",
        "\n",
        "#TC - O(n^2)\n",
        "#SC - O(1)"
      ]
    },
    {
      "cell_type": "code",
      "source": [
        "#question 2\n",
        "def fourSum(nums, target):\n",
        "    nums.sort()  # Sort the array in ascending order\n",
        "    n = len(nums)\n",
        "    quadruplets = []\n",
        "\n",
        "    for i in range(n - 3):                                                 #n-3\n",
        "        if i > 0 and nums[i] == nums[i-1]:\n",
        "            continue\n",
        "\n",
        "        for j in range(i + 1, n - 2):                                      #n-2\n",
        "            if j > i + 1 and nums[j] == nums[j-1]:\n",
        "                continue\n",
        "\n",
        "            left = j + 1\n",
        "            right = n - 1\n",
        "\n",
        "            while left < right:                                            #n-2\n",
        "                current_sum = nums[i] + nums[j] + nums[left] + nums[right]\n",
        "\n",
        "                if current_sum == target:\n",
        "                    quadruplets.append([nums[i], nums[j], nums[left], nums[right]])\n",
        "\n",
        "                    while left < right and nums[left] == nums[left+1]:\n",
        "                        left += 1\n",
        "                    while left < right and nums[right] == nums[right-1]:\n",
        "                        right -= 1\n",
        "\n",
        "                    left += 1\n",
        "                    right -= 1\n",
        "\n",
        "                elif current_sum < target:\n",
        "                    left += 1\n",
        "                else:\n",
        "                    right -= 1\n",
        "\n",
        "    return quadruplets\n",
        "nums = [1, 0, -1, 0, -2, 2]\n",
        "target = 0\n",
        "result = fourSum(nums, target)\n",
        "print(result)\n",
        "\n",
        "#TC - O(n^3)\n",
        "#SC - O(1)"
      ],
      "metadata": {
        "colab": {
          "base_uri": "https://localhost:8080/"
        },
        "id": "U9MVHX1TqnWH",
        "outputId": "b666e843-7640-45a2-e6db-c936b2cf072c"
      },
      "execution_count": null,
      "outputs": [
        {
          "output_type": "stream",
          "name": "stdout",
          "text": [
            "[[-2, -1, 1, 2], [-2, 0, 0, 2], [-1, 0, 0, 1]]\n"
          ]
        }
      ]
    },
    {
      "cell_type": "code",
      "source": [
        "#question 3\n",
        "def nextPermutation(nums):\n",
        "    n = len(nums)\n",
        "\n",
        "    # Find the first element from the right that is smaller than its next element\n",
        "    i = n - 2\n",
        "    while i >= 0 and nums[i] >= nums[i + 1]:\n",
        "        i -= 1\n",
        "\n",
        "    if i >= 0:\n",
        "        # Find the smallest element greater than nums[i] from the elements to the right\n",
        "        j = n - 1\n",
        "        while j > i and nums[j] <= nums[i]:\n",
        "            j -= 1\n",
        "\n",
        "        # Swap nums[i] and nums[j]\n",
        "        nums[i], nums[j] = nums[j], nums[i]\n",
        "\n",
        "    # Reverse the elements from i+1 till the end\n",
        "    left = i + 1\n",
        "    right = n - 1\n",
        "    while left < right:\n",
        "        nums[left], nums[right] = nums[right], nums[left]\n",
        "        left += 1\n",
        "        right -= 1\n",
        "\n",
        "    return nums\n",
        "nums = [1, 2, 3]\n",
        "result = nextPermutation(nums)\n",
        "print(result)\n",
        "\n",
        "#TC - O(n)---linear scan\n",
        "#SC - O(1)"
      ],
      "metadata": {
        "colab": {
          "base_uri": "https://localhost:8080/"
        },
        "id": "C79-xYZCs4B1",
        "outputId": "cf2ae1b4-26f3-412a-ff69-5563792de446"
      },
      "execution_count": null,
      "outputs": [
        {
          "output_type": "stream",
          "name": "stdout",
          "text": [
            "[1, 3, 2]\n"
          ]
        }
      ]
    },
    {
      "cell_type": "code",
      "source": [
        "#question 4\n",
        "def searchInsert(nums, target):\n",
        "    left = 0\n",
        "    right = len(nums) - 1\n",
        "\n",
        "    while left <= right:\n",
        "        mid = (left + right) // 2\n",
        "\n",
        "        if nums[mid] == target:\n",
        "            return mid\n",
        "        elif nums[mid] < target:\n",
        "            left = mid + 1\n",
        "        else:\n",
        "            right = mid - 1\n",
        "\n",
        "    return left\n",
        "nums = [1, 3, 5, 6]\n",
        "target = 5\n",
        "result = searchInsert(nums, target)\n",
        "print(result)\n",
        "\n",
        "#TC - O(logn)-----Binarysearch\n",
        "#SC - O(1)"
      ],
      "metadata": {
        "colab": {
          "base_uri": "https://localhost:8080/"
        },
        "id": "7HXLia7GuVwI",
        "outputId": "949e95e5-3ebb-4bfa-eaef-4c7063f2b327"
      },
      "execution_count": null,
      "outputs": [
        {
          "output_type": "stream",
          "name": "stdout",
          "text": [
            "2\n"
          ]
        }
      ]
    },
    {
      "cell_type": "code",
      "source": [
        "#question 5\n",
        "def plusOne(digits):\n",
        "    carry = 1\n",
        "    n = len(digits)\n",
        "\n",
        "    for i in range(n - 1, 0, -1):                                     #i=2                     i=1                i=0\n",
        "        digits[i] += carry                                            # 9+1=10                 9+1=10             9+1= 10\n",
        "        if digits[i] < 10:                                            #this condition fails for all 3 iteration\n",
        "            carry = 0\n",
        "            break\n",
        "        else:                               #for [9,9,9] case\n",
        "            digits[i] = 0\n",
        "\n",
        "    if carry == 1:                                                                                                               #now this conditon works and returns[1,0,0,0]\n",
        "        digits.insert(0, carry)\n",
        "\n",
        "    return digits\n",
        "digits = [1,2,3]\n",
        "print(plusOne(digits))\n",
        "\n",
        "\n",
        "#TC - O(n)\n",
        "#SC - O(1)"
      ],
      "metadata": {
        "id": "XYvbdrZAu-SD",
        "colab": {
          "base_uri": "https://localhost:8080/"
        },
        "outputId": "b783a123-1918-4a56-8039-d91d13dcd73e"
      },
      "execution_count": 7,
      "outputs": [
        {
          "output_type": "stream",
          "name": "stdout",
          "text": [
            "[1, 2, 4]\n"
          ]
        }
      ]
    },
    {
      "cell_type": "code",
      "source": [
        "#question 6\n",
        "def singleNumber(nums):\n",
        "    result = 0\n",
        "    for num in nums:\n",
        "        #print(num,result)\n",
        "        result ^= num\n",
        "    return result\n",
        "\n",
        "nums = [2, 2, 1]\n",
        "result = singleNumber(nums)\n",
        "print(result)\n",
        "\n",
        "#TC - O(n)\n",
        "#SC - O(1)"
      ],
      "metadata": {
        "colab": {
          "base_uri": "https://localhost:8080/"
        },
        "id": "3a5HIqk8vrM0",
        "outputId": "bfe58ed3-3330-4e0a-9d32-cf47aa4b6cf9"
      },
      "execution_count": 21,
      "outputs": [
        {
          "output_type": "stream",
          "name": "stdout",
          "text": [
            "1\n"
          ]
        }
      ]
    },
    {
      "cell_type": "code",
      "source": [
        "#question 7\n",
        "def findMissingRanges(nums, lower, upper):\n",
        "    result = []\n",
        "\n",
        "    # Helper function to add range to the result\n",
        "    def addRange(start, end):\n",
        "        if start == end:\n",
        "            result.append([start,end])\n",
        "        else:\n",
        "            result.append([start, end])\n",
        "\n",
        "    # Handle the case where lower is smaller than the first element in nums\n",
        "    if lower < nums[0]:\n",
        "        addRange(lower, nums[0] - 1)\n",
        "\n",
        "    # Check for missing ranges between elements in nums\n",
        "    for i in range(1, len(nums)):\n",
        "        if nums[i] - nums[i-1] > 1:\n",
        "            addRange(nums[i-1] + 1, nums[i] - 1)\n",
        "\n",
        "    # Handle the case where upper is larger than the last element in nums\n",
        "    if upper > nums[-1]:\n",
        "        addRange(nums[-1] + 1, upper)\n",
        "\n",
        "    return result\n",
        "\n",
        "\n",
        "\n",
        "nums = [0, 1, 3, 50, 75]\n",
        "lower = 0\n",
        "upper = 99\n",
        "result = findMissingRanges(nums, lower, upper)\n",
        "print(result)\n",
        "\n",
        "#TC - O(n)\n",
        "#SC - O(1)"
      ],
      "metadata": {
        "colab": {
          "base_uri": "https://localhost:8080/"
        },
        "id": "tz3_6P0Nv_ys",
        "outputId": "7656e947-4598-4cb4-eb97-a6cf2736baf6"
      },
      "execution_count": 16,
      "outputs": [
        {
          "output_type": "stream",
          "name": "stdout",
          "text": [
            "[[2, 2], [4, 49], [51, 74], [76, 99]]\n"
          ]
        }
      ]
    },
    {
      "cell_type": "code",
      "source": [
        "#question 8\n",
        "def canAttendMeetings(intervals):\n",
        "    # Sort the intervals based on the start time\n",
        "    intervals.sort(key=lambda x: x[0])\n",
        "\n",
        "    # Check if any overlapping intervals exist\n",
        "    for i in range(1, len(intervals)):\n",
        "        if intervals[i][0] < intervals[i-1][1]:\n",
        "            return False\n",
        "\n",
        "    # No overlapping intervals found, person can attend all meetings\n",
        "    return True\n",
        "intervals = [[0, 30], [5, 10], [15, 20]]\n",
        "result = canAttendMeetings(intervals)\n",
        "print(result)\n",
        "\n",
        "#TC - O(nlogn)-----sort\n",
        "#SC - O(1)"
      ],
      "metadata": {
        "colab": {
          "base_uri": "https://localhost:8080/"
        },
        "id": "befWIgGJwaVI",
        "outputId": "6a84d3a0-0664-49aa-e60d-22f6e011cf0f"
      },
      "execution_count": 17,
      "outputs": [
        {
          "output_type": "stream",
          "name": "stdout",
          "text": [
            "False\n"
          ]
        }
      ]
    },
    {
      "cell_type": "code",
      "source": [],
      "metadata": {
        "id": "-l9T8_CY1pDA"
      },
      "execution_count": null,
      "outputs": []
    }
  ]
}